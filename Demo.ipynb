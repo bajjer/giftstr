{
 "cells": [
  {
   "cell_type": "code",
   "execution_count": 3,
   "id": "dd72b525",
   "metadata": {
    "scrolled": true
   },
   "outputs": [],
   "source": [
    "from ssl import CERT_NONE\n",
    "from pprint import pprint\n",
    "\n",
    "from nostr.event import Event\n",
    "from nostr.key import PrivateKey\n",
    "from nostr.relay_manager import RelayManager"
   ]
  },
  {
   "cell_type": "code",
   "execution_count": 4,
   "id": "c57a4b17",
   "metadata": {
    "scrolled": true
   },
   "outputs": [
    {
     "name": "stdout",
     "output_type": "stream",
     "text": [
      "npub1tqh0wyekvvhfc82ux52gd4tahusvfx7wt2789vtvsny3jed5x0gqht6tun\n"
     ]
    }
   ],
   "source": [
    "# Setup Alice's keys\n",
    "privkey: PrivateKey = PrivateKey().from_nsec(ALICE)\n",
    "print(privkey.public_key.bech32())"
   ]
  },
  {
   "cell_type": "code",
   "execution_count": 5,
   "id": "d384c0a4",
   "metadata": {},
   "outputs": [],
   "source": [
    "def connect_to_relays(relays:list[str]) -> RelayManager:\n",
    "    relay_manager = RelayManager()\n",
    "    for r in relays:\n",
    "        relay_manager.add_relay(r)\n",
    "    relay_manager.open_connections({\"cert_reqs\": CERT_NONE})\n",
    "    return relay_manager"
   ]
  },
  {
   "cell_type": "code",
   "execution_count": 6,
   "id": "a4fa0869",
   "metadata": {},
   "outputs": [
    {
     "name": "stdout",
     "output_type": "stream",
     "text": [
      "{'wss://nor.st': <nostr.relay.Relay object at 0x105a44c10>,\n",
      " 'wss://nos.lol': <nostr.relay.Relay object at 0x105a45150>,\n",
      " 'wss://relay.damus.io': <nostr.relay.Relay object at 0x105687a90>,\n",
      " 'wss://relay.snort.social': <nostr.relay.Relay object at 0x105a44f50>}\n"
     ]
    }
   ],
   "source": [
    "# Connect to relays\n",
    "relay_manager = connect_to_relays(\n",
    "    relays=[\n",
    "        RELAY,\n",
    "        \"wss://relay.damus.io\",\n",
    "        \"wss://relay.snort.social\",\n",
    "        \"wss://nos.lol\"\n",
    "    ]\n",
    ")\n",
    "\n",
    "pprint(relay_manager.relays)"
   ]
  },
  {
   "cell_type": "code",
   "execution_count": 7,
   "id": "dcc35649",
   "metadata": {},
   "outputs": [],
   "source": [
    "def create_badge(public_key:str, kind:int=30009, content:str='', tags:list[list[str]]=[],) -> Event:\n",
    "    return Event(\n",
    "        public_key=public_key,\n",
    "        kind=kind,\n",
    "        content=content,\n",
    "        tags=tags,\n",
    "    )"
   ]
  },
  {
   "cell_type": "code",
   "execution_count": 8,
   "id": "88bed620",
   "metadata": {},
   "outputs": [],
   "source": [
    "# Create cake card badges\n",
    "cake_card = create_badge(\n",
    "    public_key=privkey.public_key.hex(),\n",
    "    tags = [\n",
    "        ['d', 'cake-69'],\n",
    "        ['name', 'Cake Card for $69'],\n",
    "        ['description', 'Good for $69 of Cake'],\n",
    "        ['image', 'https://icons.iconarchive.com/icons/iconarchive/fat-sugar-food/256/Cake-icon.png', '1024x1024'],\n",
    "        ['thumb', 'https://icons.iconarchive.com/icons/iconarchive/fat-sugar-food/256/Cake-icon.png', '256x256']\n",
    "    ],\n",
    ")\n",
    "\n",
    "cake_card_consumed = create_badge(\n",
    "    public_key=privkey.public_key.hex(),\n",
    "    tags = [\n",
    "        ['d', 'poop-69'],\n",
    "        ['name', 'Consumed Cake Card $69'],\n",
    "        ['description', '$69 Cake Card consumed, now Poop'],\n",
    "        ['image', 'https://icons.iconarchive.com/icons/sonya/swarm/256/Poop-icon.png', '1024x1024'],\n",
    "        ['thumb', 'https://icons.iconarchive.com/icons/sonya/swarm/256/Poop-icon.png', '256x256']\n",
    "    ],\n",
    ")"
   ]
  },
  {
   "cell_type": "code",
   "execution_count": 9,
   "id": "160c9de9",
   "metadata": {},
   "outputs": [
    {
     "name": "stdout",
     "output_type": "stream",
     "text": [
      "9b89f818c9c1882f99e0c810d97c814d5536b41e7a75ca0486e69f4c2ddd7de45668c19a0e2863f1f6205c46402aa99a371ea3f9190efab5fa2c15da0a542026\n",
      "9172dbfed833485463b861fcf27939f97e80b78f4cdb7d5e53a7a37aa385df01a925f722d709b937bccd7fdb3d9c44edef63cd6dfc43693c45e171741a889d34\n"
     ]
    }
   ],
   "source": [
    "# Sign badge creation events\n",
    "privkey.sign_event(cake_card)\n",
    "privkey.sign_event(cake_card_consumed)\n",
    "\n",
    "print(cake_card.signature)\n",
    "print(cake_card_consumed.signature)"
   ]
  },
  {
   "cell_type": "code",
   "execution_count": 10,
   "id": "cb667711",
   "metadata": {},
   "outputs": [
    {
     "name": "stdout",
     "output_type": "stream",
     "text": [
      "1806db4b1aa5746b77387dde6f2ee90ef0ce9cc142e888149295573ddeb79248\n",
      "b5778e284825b908f97f1eba1e9ac381c84bf3c052f0de4e0e008c597eab76e7\n"
     ]
    }
   ],
   "source": [
    "# Publish badge creation events\n",
    "relay_manager.publish_event(cake_card)\n",
    "relay_manager.publish_event(cake_card_consumed)\n",
    "\n",
    "print(cake_card.id)\n",
    "print(cake_card_consumed.id)"
   ]
  },
  {
   "cell_type": "markdown",
   "id": "936cc4e3",
   "metadata": {},
   "source": [
    "# ...\n",
    "# Lightning Payment Occurs\n",
    "# ..."
   ]
  },
  {
   "cell_type": "code",
   "execution_count": 13,
   "id": "d7814f86",
   "metadata": {},
   "outputs": [],
   "source": [
    "def assign_badge(public_key:str, assign_to:str, badge_d:str,\n",
    "                 kind:int=8, content:str='', tags:list[list[str]]=[]) -> Event:\n",
    "    return Event(\n",
    "        public_key=public_key,\n",
    "        kind=kind,\n",
    "        content=content,\n",
    "        tags=[\n",
    "            ['a', f'30009:{public_key}:{badge_d}'],\n",
    "            ['p', f'{assign_to}', 'wss://relay.snort.social']\n",
    "        ],\n",
    "    )"
   ]
  },
  {
   "cell_type": "code",
   "execution_count": 14,
   "id": "04d36845",
   "metadata": {},
   "outputs": [
    {
     "name": "stdout",
     "output_type": "stream",
     "text": [
      "c9d48b8a5866456b26b331bcb369f0fc3ebfa2da0cd2fc19db6486c234c4508d\n"
     ]
    }
   ],
   "source": [
    "# Create badge assignment event\n",
    "assign_cake = assign_badge(public_key=privkey.public_key.hex(), assign_to=BOB, badge_d='cake-69')\n",
    "\n",
    "print(assign_cake.id)"
   ]
  },
  {
   "cell_type": "code",
   "execution_count": 15,
   "id": "9e7856b1",
   "metadata": {},
   "outputs": [],
   "source": [
    "# Sign badge assignment event\n",
    "privkey.sign_event(assign_cake)"
   ]
  },
  {
   "cell_type": "code",
   "execution_count": 16,
   "id": "7eb428f8",
   "metadata": {
    "scrolled": false
   },
   "outputs": [],
   "source": [
    "# Publish badge assignment event\n",
    "relay_manager.publish_event(assign_cake)"
   ]
  },
  {
   "cell_type": "markdown",
   "id": "844efb72",
   "metadata": {},
   "source": [
    "# ...\n",
    "# Cake Card is Used\n",
    "# ..."
   ]
  },
  {
   "cell_type": "code",
   "execution_count": 17,
   "id": "6269a083",
   "metadata": {},
   "outputs": [
    {
     "name": "stdout",
     "output_type": "stream",
     "text": [
      "70799e62ba1a57bfe1ae34fc7b3b191f63bc12d3e5f7aafa0aef956d42fe80f2\n"
     ]
    }
   ],
   "source": [
    "# Create badge consumption assignment event\n",
    "assign_cake_consumed = assign_badge(public_key=privkey.public_key.hex(),\n",
    "                                    assign_to=BOB, badge_d='poop-69')\n",
    "\n",
    "print(assign_cake_consumed.id)"
   ]
  },
  {
   "cell_type": "code",
   "execution_count": 18,
   "id": "b4ca7cee",
   "metadata": {},
   "outputs": [],
   "source": [
    "# Sign badge consumption assignment event\n",
    "privkey.sign_event(assign_cake_consumed)"
   ]
  },
  {
   "cell_type": "code",
   "execution_count": 19,
   "id": "50292aa6",
   "metadata": {},
   "outputs": [],
   "source": [
    "# Publish badge consumption assignment event\n",
    "relay_manager.publish_event(assign_cake_consumed)"
   ]
  },
  {
   "cell_type": "code",
   "execution_count": null,
   "id": "26c8e745",
   "metadata": {},
   "outputs": [],
   "source": []
  },
  {
   "cell_type": "code",
   "execution_count": null,
   "id": "fec22ea6",
   "metadata": {},
   "outputs": [],
   "source": []
  },
  {
   "cell_type": "code",
   "execution_count": null,
   "id": "d4eb6cc7",
   "metadata": {},
   "outputs": [],
   "source": []
  },
  {
   "cell_type": "code",
   "execution_count": null,
   "id": "143cd22f",
   "metadata": {},
   "outputs": [],
   "source": []
  },
  {
   "cell_type": "code",
   "execution_count": null,
   "id": "bf624dda",
   "metadata": {},
   "outputs": [],
   "source": []
  },
  {
   "cell_type": "code",
   "execution_count": null,
   "id": "e64f3e14",
   "metadata": {},
   "outputs": [],
   "source": []
  },
  {
   "cell_type": "code",
   "execution_count": null,
   "id": "5b7bbd73",
   "metadata": {},
   "outputs": [],
   "source": []
  },
  {
   "cell_type": "code",
   "execution_count": null,
   "id": "6e519883",
   "metadata": {},
   "outputs": [],
   "source": []
  },
  {
   "cell_type": "code",
   "execution_count": null,
   "id": "c9b15f55",
   "metadata": {},
   "outputs": [],
   "source": []
  },
  {
   "cell_type": "code",
   "execution_count": null,
   "id": "0a04f66d",
   "metadata": {},
   "outputs": [],
   "source": []
  },
  {
   "cell_type": "code",
   "execution_count": null,
   "id": "29df4674",
   "metadata": {},
   "outputs": [],
   "source": []
  },
  {
   "cell_type": "code",
   "execution_count": null,
   "id": "312eb4a1",
   "metadata": {},
   "outputs": [],
   "source": []
  },
  {
   "cell_type": "code",
   "execution_count": null,
   "id": "615afdc6",
   "metadata": {},
   "outputs": [],
   "source": []
  },
  {
   "cell_type": "code",
   "execution_count": null,
   "id": "c8f27f0a",
   "metadata": {},
   "outputs": [],
   "source": []
  },
  {
   "cell_type": "code",
   "execution_count": null,
   "id": "070e6629",
   "metadata": {},
   "outputs": [],
   "source": []
  },
  {
   "cell_type": "code",
   "execution_count": null,
   "id": "6f88d384",
   "metadata": {},
   "outputs": [],
   "source": []
  },
  {
   "cell_type": "code",
   "execution_count": null,
   "id": "1e1e5108",
   "metadata": {},
   "outputs": [],
   "source": []
  },
  {
   "cell_type": "code",
   "execution_count": 2,
   "id": "69ede99e",
   "metadata": {},
   "outputs": [],
   "source": [
    "RELAY: str = 'wss://nor.st'\n",
    "ALICE: str = 'nsec1mp95lpaxpd50dvvh7cq0azasvdl8cd0qgu55qtlmz3he25wj2t2q52lx9k'\n",
    "BOB: str = '4b9c064b4863cc0d02d794f4fff9e7793ddadd93175623987642fe073b5d5dd2'"
   ]
  },
  {
   "cell_type": "code",
   "execution_count": null,
   "id": "7c23b918",
   "metadata": {},
   "outputs": [],
   "source": []
  }
 ],
 "metadata": {
  "kernelspec": {
   "display_name": "Python 3 (ipykernel)",
   "language": "python",
   "name": "python3"
  },
  "language_info": {
   "codemirror_mode": {
    "name": "ipython",
    "version": 3
   },
   "file_extension": ".py",
   "mimetype": "text/x-python",
   "name": "python",
   "nbconvert_exporter": "python",
   "pygments_lexer": "ipython3",
   "version": "3.11.2"
  }
 },
 "nbformat": 4,
 "nbformat_minor": 5
}
