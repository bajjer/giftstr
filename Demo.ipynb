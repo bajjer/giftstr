{
 "cells": [
  {
   "cell_type": "code",
   "execution_count": 15,
   "id": "dd72b525",
   "metadata": {
    "scrolled": true
   },
   "outputs": [],
   "source": [
    "from ssl import CERT_NONE\n",
    "from pprint import pprint\n",
    "\n",
    "from nostr.event import Event\n",
    "from nostr.key import PrivateKey\n",
    "from nostr.relay_manager import RelayManager"
   ]
  },
  {
   "cell_type": "code",
   "execution_count": 12,
   "id": "387fa885",
   "metadata": {},
   "outputs": [
    {
     "name": "stdout",
     "output_type": "stream",
     "text": [
      "npub1tqh0wyekvvhfc82ux52gd4tahusvfx7wt2789vtvsny3jed5x0gqht6tun\n"
     ]
    }
   ],
   "source": [
    "# Setup Alice's keys\n",
    "privkey: PrivateKey = PrivateKey().from_nsec(PRIVKEY)\n",
    "print(privkey.public_key.bech32())"
   ]
  },
  {
   "cell_type": "code",
   "execution_count": 17,
   "id": "fe543f5d",
   "metadata": {},
   "outputs": [
    {
     "name": "stdout",
     "output_type": "stream",
     "text": [
      "{'wss://nor.st': <nostr.relay.Relay object at 0x1197c8310>,\n",
      " 'wss://nos.lol': <nostr.relay.Relay object at 0x1197e3690>,\n",
      " 'wss://relay.damus.io': <nostr.relay.Relay object at 0x11a2d0e10>,\n",
      " 'wss://relay.snort.social': <nostr.relay.Relay object at 0x11a2d3cd0>}\n"
     ]
    }
   ],
   "source": [
    "# Connect to relays\n",
    "relay_manager = RelayManager()\n",
    "relay_manager.add_relay(RELAY)\n",
    "relay_manager.add_relay(\"wss://relay.damus.io\")\n",
    "relay_manager.add_relay(\"wss://relay.snort.social\")\n",
    "relay_manager.add_relay(\"wss://nos.lol\")\n",
    "relay_manager.open_connections({\"cert_reqs\": CERT_NONE})\n",
    "\n",
    "pprint(relay_manager.relays)"
   ]
  },
  {
   "cell_type": "code",
   "execution_count": null,
   "id": "53b6cfa8",
   "metadata": {},
   "outputs": [],
   "source": []
  },
  {
   "cell_type": "code",
   "execution_count": null,
   "id": "7c93c8d5",
   "metadata": {},
   "outputs": [],
   "source": []
  },
  {
   "cell_type": "code",
   "execution_count": null,
   "id": "5a3484e7",
   "metadata": {},
   "outputs": [],
   "source": []
  },
  {
   "cell_type": "code",
   "execution_count": null,
   "id": "160b063d",
   "metadata": {},
   "outputs": [],
   "source": []
  },
  {
   "cell_type": "code",
   "execution_count": null,
   "id": "9450cd11",
   "metadata": {},
   "outputs": [],
   "source": []
  },
  {
   "cell_type": "code",
   "execution_count": null,
   "id": "20e32dac",
   "metadata": {},
   "outputs": [],
   "source": []
  },
  {
   "cell_type": "code",
   "execution_count": null,
   "id": "3db92c93",
   "metadata": {},
   "outputs": [],
   "source": []
  },
  {
   "cell_type": "code",
   "execution_count": null,
   "id": "75b9766a",
   "metadata": {},
   "outputs": [],
   "source": []
  },
  {
   "cell_type": "code",
   "execution_count": null,
   "id": "a096ba1d",
   "metadata": {},
   "outputs": [],
   "source": []
  },
  {
   "cell_type": "code",
   "execution_count": null,
   "id": "406efedf",
   "metadata": {},
   "outputs": [],
   "source": []
  },
  {
   "cell_type": "code",
   "execution_count": null,
   "id": "7f6a25b9",
   "metadata": {},
   "outputs": [],
   "source": []
  },
  {
   "cell_type": "code",
   "execution_count": null,
   "id": "aa52cca6",
   "metadata": {},
   "outputs": [],
   "source": []
  },
  {
   "cell_type": "code",
   "execution_count": null,
   "id": "208b2a67",
   "metadata": {},
   "outputs": [],
   "source": []
  },
  {
   "cell_type": "code",
   "execution_count": null,
   "id": "55589844",
   "metadata": {},
   "outputs": [],
   "source": []
  },
  {
   "cell_type": "code",
   "execution_count": null,
   "id": "6bcf071b",
   "metadata": {},
   "outputs": [],
   "source": []
  },
  {
   "cell_type": "code",
   "execution_count": null,
   "id": "b59ea846",
   "metadata": {},
   "outputs": [],
   "source": []
  },
  {
   "cell_type": "code",
   "execution_count": 7,
   "id": "fa92fb2b",
   "metadata": {},
   "outputs": [],
   "source": [
    "RELAY: str = 'wss://nor.st'\n",
    "PRIVKEY: str = 'nsec1mp95lpaxpd50dvvh7cq0azasvdl8cd0qgu55qtlmz3he25wj2t2q52lx9k'"
   ]
  },
  {
   "cell_type": "code",
   "execution_count": null,
   "id": "7ef63223",
   "metadata": {},
   "outputs": [],
   "source": []
  }
 ],
 "metadata": {
  "kernelspec": {
   "display_name": "Python 3 (ipykernel)",
   "language": "python",
   "name": "python3"
  },
  "language_info": {
   "codemirror_mode": {
    "name": "ipython",
    "version": 3
   },
   "file_extension": ".py",
   "mimetype": "text/x-python",
   "name": "python",
   "nbconvert_exporter": "python",
   "pygments_lexer": "ipython3",
   "version": "3.11.2"
  }
 },
 "nbformat": 4,
 "nbformat_minor": 5
}
