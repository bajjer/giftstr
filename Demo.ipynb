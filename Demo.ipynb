{
 "cells": [
  {
   "cell_type": "code",
   "execution_count": 2,
   "id": "dd72b525",
   "metadata": {
    "scrolled": true
   },
   "outputs": [],
   "source": [
    "from ssl import CERT_NONE\n",
    "from pprint import pprint\n",
    "\n",
    "from nostr.event import Event\n",
    "from nostr.key import PrivateKey\n",
    "from nostr.relay_manager import RelayManager"
   ]
  },
  {
   "cell_type": "code",
   "execution_count": 5,
   "id": "46d09388",
   "metadata": {
    "scrolled": true
   },
   "outputs": [
    {
     "name": "stdout",
     "output_type": "stream",
     "text": [
      "npub1tqh0wyekvvhfc82ux52gd4tahusvfx7wt2789vtvsny3jed5x0gqht6tun\n"
     ]
    }
   ],
   "source": [
    "# Setup Alice's keys\n",
    "privkey: PrivateKey = PrivateKey().from_nsec(ALICE)\n",
    "print(privkey.public_key.bech32())"
   ]
  },
  {
   "cell_type": "code",
   "execution_count": 37,
   "id": "6475089e",
   "metadata": {},
   "outputs": [],
   "source": [
    "def connect_to_relays(relays:list[str]) -> RelayManager:\n",
    "    relay_manager = RelayManager()\n",
    "    for r in relays:\n",
    "        relay_manager.add_relay(r)\n",
    "    relay_manager.open_connections({\"cert_reqs\": CERT_NONE})\n",
    "    return relay_manager"
   ]
  },
  {
   "cell_type": "code",
   "execution_count": 45,
   "id": "bab499f7",
   "metadata": {},
   "outputs": [
    {
     "name": "stdout",
     "output_type": "stream",
     "text": [
      "{'wss://nor.st': <nostr.relay.Relay object at 0x107e9ad50>,\n",
      " 'wss://nos.lol': <nostr.relay.Relay object at 0x107e98410>,\n",
      " 'wss://relay.damus.io': <nostr.relay.Relay object at 0x107e9b7d0>,\n",
      " 'wss://relay.snort.social': <nostr.relay.Relay object at 0x107e99c50>}\n"
     ]
    }
   ],
   "source": [
    "# Connect to relays\n",
    "relay_manager = connect_to_relays(\n",
    "    relays=[\n",
    "        RELAY,\n",
    "        \"wss://relay.damus.io\",\n",
    "        \"wss://relay.snort.social\",\n",
    "        \"wss://nos.lol\"\n",
    "    ]\n",
    ")\n",
    "\n",
    "pprint(relay_manager.relays)"
   ]
  },
  {
   "cell_type": "code",
   "execution_count": 8,
   "id": "e7da7a0e",
   "metadata": {},
   "outputs": [],
   "source": [
    "def create_badge(public_key:str, kind:int=30009, content:str='', tags:list[list[str]]=[],) -> Event:\n",
    "    return Event(\n",
    "        public_key=public_key,\n",
    "        kind=kind,\n",
    "        content=content,\n",
    "        tags=tags,\n",
    "    )"
   ]
  },
  {
   "cell_type": "code",
   "execution_count": 9,
   "id": "1ea843ed",
   "metadata": {},
   "outputs": [],
   "source": [
    "# Create cake card badges\n",
    "cake_card = create_badge(\n",
    "    public_key=privkey.public_key.hex(),\n",
    "    tags = [\n",
    "        ['d', 'cake-69'],\n",
    "        ['name', 'Cake Card for $69'],\n",
    "        ['description', 'Good for $69 of Cake'],\n",
    "        ['image', 'https://icons.iconarchive.com/icons/iconarchive/fat-sugar-food/256/Cake-icon.png', '1024x1024'],\n",
    "        ['thumb', 'https://icons.iconarchive.com/icons/iconarchive/fat-sugar-food/256/Cake-icon.png', '256x256']\n",
    "    ],\n",
    ")\n",
    "\n",
    "cake_card_consumed = create_badge(\n",
    "    public_key=privkey.public_key.hex(),\n",
    "    tags = [\n",
    "        ['d', 'poop-69'],\n",
    "        ['name', 'Consumed Cake Card $69'],\n",
    "        ['description', '$69 Cake Card consumed, now Poop'],\n",
    "        ['image', 'https://icons.iconarchive.com/icons/sonya/swarm/256/Poop-icon.png', '1024x1024'],\n",
    "        ['thumb', 'https://icons.iconarchive.com/icons/sonya/swarm/256/Poop-icon.png', '256x256']\n",
    "    ],\n",
    ")"
   ]
  },
  {
   "cell_type": "code",
   "execution_count": 10,
   "id": "9cd562a1",
   "metadata": {},
   "outputs": [
    {
     "name": "stdout",
     "output_type": "stream",
     "text": [
      "36964b46946ed3ef29eab70a2a7956f9d393c649e224ab16d00e87bf042f9daa1ebb9cd2a7335e06fc9feede9c119ef2e62ac570d769bdd711fe694b0bc36732\n",
      "f269cc81ecbf15d892845161de7578eb74cf876e62718bf03086b6e5bb99cfaa867f293148c656f6ba888529a5a432b12745fd13ee85dd25b11b072520e130f1\n"
     ]
    }
   ],
   "source": [
    "# Sign badge creation events\n",
    "privkey.sign_event(cake_card)\n",
    "privkey.sign_event(cake_card_consumed)\n",
    "\n",
    "print(cake_card.signature)\n",
    "print(cake_card_consumed.signature)"
   ]
  },
  {
   "cell_type": "code",
   "execution_count": 11,
   "id": "5907b1e5",
   "metadata": {},
   "outputs": [
    {
     "name": "stdout",
     "output_type": "stream",
     "text": [
      "1801f9b8e498083b208b4f25c3877f1af830d2d594b0f21dc78e4ad1c8345933\n",
      "d19820d0a8012e2db1cfe9f6e612e04bb1cd98f17c544cbb0dde7bb044c36101\n"
     ]
    }
   ],
   "source": [
    "# Publish badge creation events\n",
    "relay_manager.publish_event(cake_card)\n",
    "relay_manager.publish_event(cake_card_consumed)\n",
    "\n",
    "print(cake_card.id)\n",
    "print(cake_card_consumed.id)"
   ]
  },
  {
   "cell_type": "markdown",
   "id": "745ba505",
   "metadata": {},
   "source": [
    "# ...\n",
    "# Lightning Payment Occurs\n",
    "# ..."
   ]
  },
  {
   "cell_type": "code",
   "execution_count": 41,
   "id": "aea1fa30",
   "metadata": {},
   "outputs": [],
   "source": [
    "def assign_badge(public_key:str, assign_to:str, badge_d:str,\n",
    "                 kind:int=8, content:str='', tags:list[list[str]]) -> Event:\n",
    "    return Event(\n",
    "        public_key=public_key,\n",
    "        kind=kind,\n",
    "        content=content,\n",
    "        tags=[\n",
    "            ['a', f'30009:{public_key}:{badge_d}'],\n",
    "            ['p', f'{assign_to}', 'wss://relay.snort.social']\n",
    "        ],\n",
    "    )"
   ]
  },
  {
   "cell_type": "code",
   "execution_count": 42,
   "id": "a5cf42c3",
   "metadata": {},
   "outputs": [
    {
     "name": "stdout",
     "output_type": "stream",
     "text": [
      "aaf6700eeca1babc03a5e30efc1770f10f88a40f6a466dbc3a755f9766489cdb\n"
     ]
    }
   ],
   "source": [
    "# Create badge assignment event\n",
    "assign_cake = assign_badge(public_key=privkey.public_key.hex(), assign_to=BOB, badge_d='cake-69')\n",
    "\n",
    "print(assign_cake.id)"
   ]
  },
  {
   "cell_type": "code",
   "execution_count": 43,
   "id": "de048c3f",
   "metadata": {},
   "outputs": [],
   "source": [
    "# Sign badge assignment event\n",
    "privkey.sign_event(assign_cake)"
   ]
  },
  {
   "cell_type": "code",
   "execution_count": 46,
   "id": "dff60b78",
   "metadata": {
    "scrolled": false
   },
   "outputs": [],
   "source": [
    "# Publish badge assignment event\n",
    "relay_manager.publish_event(assign_cake)"
   ]
  },
  {
   "cell_type": "markdown",
   "id": "1b591e41",
   "metadata": {},
   "source": [
    "# ...\n",
    "# Cake Card is Used\n",
    "# ..."
   ]
  },
  {
   "cell_type": "code",
   "execution_count": 47,
   "id": "9ed7cfc0",
   "metadata": {},
   "outputs": [
    {
     "name": "stdout",
     "output_type": "stream",
     "text": [
      "f940746d8d3c5f4895d3e0aead94afdfcb3992cc438cfd8072c65797efb4e62f\n"
     ]
    }
   ],
   "source": [
    "# Create badge consumption assignment event\n",
    "assign_cake_consumed = assign_badge(public_key=privkey.public_key.hex(),\n",
    "                                    assign_to=BOB, badge_d='poop-69')\n",
    "\n",
    "print(assign_cake_consumed.id)"
   ]
  },
  {
   "cell_type": "code",
   "execution_count": 48,
   "id": "b8fc9265",
   "metadata": {},
   "outputs": [],
   "source": [
    "# Sign badge assignment event\n",
    "privkey.sign_event(assign_cake_consumed)"
   ]
  },
  {
   "cell_type": "code",
   "execution_count": 49,
   "id": "4dc1637a",
   "metadata": {},
   "outputs": [],
   "source": [
    "# Publish badge assignment event\n",
    "relay_manager.publish_event(assign_cake_consumed)"
   ]
  },
  {
   "cell_type": "code",
   "execution_count": null,
   "id": "3abc3238",
   "metadata": {},
   "outputs": [],
   "source": []
  },
  {
   "cell_type": "code",
   "execution_count": null,
   "id": "84024c02",
   "metadata": {},
   "outputs": [],
   "source": []
  },
  {
   "cell_type": "code",
   "execution_count": null,
   "id": "c062639b",
   "metadata": {},
   "outputs": [],
   "source": []
  },
  {
   "cell_type": "code",
   "execution_count": null,
   "id": "fd28d57d",
   "metadata": {},
   "outputs": [],
   "source": []
  },
  {
   "cell_type": "code",
   "execution_count": null,
   "id": "53a6c79f",
   "metadata": {},
   "outputs": [],
   "source": []
  },
  {
   "cell_type": "code",
   "execution_count": null,
   "id": "b39b750e",
   "metadata": {},
   "outputs": [],
   "source": []
  },
  {
   "cell_type": "code",
   "execution_count": null,
   "id": "731ee3a3",
   "metadata": {},
   "outputs": [],
   "source": []
  },
  {
   "cell_type": "code",
   "execution_count": null,
   "id": "342edd3b",
   "metadata": {},
   "outputs": [],
   "source": []
  },
  {
   "cell_type": "code",
   "execution_count": null,
   "id": "ca29f1c0",
   "metadata": {},
   "outputs": [],
   "source": []
  },
  {
   "cell_type": "code",
   "execution_count": null,
   "id": "16919d21",
   "metadata": {},
   "outputs": [],
   "source": []
  },
  {
   "cell_type": "code",
   "execution_count": null,
   "id": "97ae1d50",
   "metadata": {},
   "outputs": [],
   "source": []
  },
  {
   "cell_type": "code",
   "execution_count": null,
   "id": "e217cabc",
   "metadata": {},
   "outputs": [],
   "source": []
  },
  {
   "cell_type": "code",
   "execution_count": null,
   "id": "bef680a3",
   "metadata": {},
   "outputs": [],
   "source": []
  },
  {
   "cell_type": "code",
   "execution_count": null,
   "id": "176b2d82",
   "metadata": {},
   "outputs": [],
   "source": []
  },
  {
   "cell_type": "code",
   "execution_count": null,
   "id": "0699bc7d",
   "metadata": {},
   "outputs": [],
   "source": []
  },
  {
   "cell_type": "code",
   "execution_count": null,
   "id": "3b56ea0f",
   "metadata": {},
   "outputs": [],
   "source": []
  },
  {
   "cell_type": "code",
   "execution_count": null,
   "id": "71906d08",
   "metadata": {},
   "outputs": [],
   "source": []
  },
  {
   "cell_type": "code",
   "execution_count": 4,
   "id": "e63a27ef",
   "metadata": {},
   "outputs": [],
   "source": [
    "RELAY: str = 'wss://nor.st'\n",
    "ALICE: str = 'nsec1mp95lpaxpd50dvvh7cq0azasvdl8cd0qgu55qtlmz3he25wj2t2q52lx9k'\n",
    "BOB: str = '4b9c064b4863cc0d02d794f4fff9e7793ddadd93175623987642fe073b5d5dd2'"
   ]
  },
  {
   "cell_type": "code",
   "execution_count": null,
   "id": "b60708df",
   "metadata": {},
   "outputs": [],
   "source": []
  }
 ],
 "metadata": {
  "kernelspec": {
   "display_name": "Python 3 (ipykernel)",
   "language": "python",
   "name": "python3"
  },
  "language_info": {
   "codemirror_mode": {
    "name": "ipython",
    "version": 3
   },
   "file_extension": ".py",
   "mimetype": "text/x-python",
   "name": "python",
   "nbconvert_exporter": "python",
   "pygments_lexer": "ipython3",
   "version": "3.11.2"
  }
 },
 "nbformat": 4,
 "nbformat_minor": 5
}
