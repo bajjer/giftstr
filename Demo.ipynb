{
 "cells": [
  {
   "cell_type": "code",
   "execution_count": 1,
   "id": "eb5c138e",
   "metadata": {},
   "outputs": [],
   "source": [
    "from ssl import CERT_NONE\n",
    "\n",
    "from nostr.event import Event\n",
    "from nostr.key import PrivateKey\n",
    "from nostr.relay_manager import RelayManager"
   ]
  },
  {
   "cell_type": "code",
   "execution_count": null,
   "id": "5cdf1ebe",
   "metadata": {},
   "outputs": [],
   "source": []
  }
 ],
 "metadata": {
  "kernelspec": {
   "display_name": "Python 3 (ipykernel)",
   "language": "python",
   "name": "python3"
  },
  "language_info": {
   "codemirror_mode": {
    "name": "ipython",
    "version": 3
   },
   "file_extension": ".py",
   "mimetype": "text/x-python",
   "name": "python",
   "nbconvert_exporter": "python",
   "pygments_lexer": "ipython3",
   "version": "3.11.2"
  }
 },
 "nbformat": 4,
 "nbformat_minor": 5
}
